{
 "cells": [
  {
   "cell_type": "code",
   "execution_count": 2,
   "id": "18ac4626-e670-4b61-aa23-95c2924e0fc3",
   "metadata": {},
   "outputs": [],
   "source": [
    "\n",
    "import sqlite3\n",
    "import pandas as pd\n"
   ]
  },
  {
   "cell_type": "code",
   "execution_count": 3,
   "id": "444c2292-5aaa-40ad-b4b0-c85d3cfed81c",
   "metadata": {},
   "outputs": [],
   "source": [
    "# Connect to SQLite database (it will create one if it doesn't exist)\n",
    "connection = sqlite3.connect('ecommerce_behavior_analysis.db')\n",
    "cursor = connection.cursor()\n"
   ]
  },
  {
   "cell_type": "code",
   "execution_count": 4,
   "id": "de2d2c9a-734a-4c81-9227-67c0884ee23c",
   "metadata": {},
   "outputs": [],
   "source": [
    "# Create Customers table\n",
    "cursor.execute('''\n",
    "CREATE TABLE IF NOT EXISTS Customers (\n",
    "    customer_id INTEGER PRIMARY KEY,\n",
    "    name TEXT NOT NULL,\n",
    "    email TEXT,\n",
    "    city TEXT,\n",
    "    country TEXT,\n",
    "    segment TEXT\n",
    ");\n",
    "''')\n",
    "\n",
    "# Create Products table\n",
    "cursor.execute('''\n",
    "CREATE TABLE IF NOT EXISTS Products (\n",
    "    product_id INTEGER PRIMARY KEY,\n",
    "    product_name TEXT NOT NULL,\n",
    "    category TEXT,\n",
    "    price DECIMAL(10, 2)\n",
    ");\n",
    "''')\n",
    "\n",
    "# Create Orders table\n",
    "cursor.execute('''\n",
    "CREATE TABLE IF NOT EXISTS Orders (\n",
    "    order_id INTEGER PRIMARY KEY,\n",
    "    customer_id INTEGER,\n",
    "    order_date TEXT,\n",
    "    order_value DECIMAL(10, 2),\n",
    "    FOREIGN KEY (customer_id) REFERENCES Customers(customer_id)\n",
    ");\n",
    "''')\n",
    "\n",
    "# Create Order_Details table\n",
    "cursor.execute('''\n",
    "CREATE TABLE IF NOT EXISTS Order_Details (\n",
    "    order_detail_id INTEGER PRIMARY KEY,\n",
    "    order_id INTEGER,\n",
    "    product_id INTEGER,\n",
    "    quantity INTEGER,\n",
    "    FOREIGN KEY (order_id) REFERENCES Orders(order_id),\n",
    "    FOREIGN KEY (product_id) REFERENCES Products(product_id)\n",
    ");\n",
    "''')\n",
    "\n",
    "# Insert sample data\n",
    "# Customers\n",
    "cursor.execute(\"INSERT OR IGNORE INTO Customers VALUES (1, 'Alice Smith', 'alice@example.com', 'New York', 'USA', 'Premium');\")\n",
    "cursor.execute(\"INSERT OR IGNORE INTO Customers VALUES (2, 'Bob Johnson', 'bob@example.com', 'Los Angeles', 'USA', 'Regular');\")\n",
    "cursor.execute(\"INSERT OR IGNORE INTO Customers VALUES (3, 'Charlie Davis', 'charlie@example.com', 'London', 'UK', 'Premium');\")\n",
    "cursor.execute(\"INSERT OR IGNORE INTO Customers VALUES (4, 'Diana White', 'diana@example.com', 'Toronto', 'Canada', 'Regular');\")\n",
    "\n",
    "# Products\n",
    "cursor.execute(\"INSERT OR IGNORE INTO Products VALUES (1, 'Laptop', 'Electronics', 999.99);\")\n",
    "cursor.execute(\"INSERT OR IGNORE INTO Products VALUES (2, 'Smartphone', 'Electronics', 699.99);\")\n",
    "cursor.execute(\"INSERT OR IGNORE INTO Products VALUES (3, 'Headphones', 'Accessories', 199.99);\")\n",
    "cursor.execute(\"INSERT OR IGNORE INTO Products VALUES (4, 'Coffee Maker', 'Home Appliances', 49.99);\")\n",
    "\n",
    "# Orders\n",
    "cursor.execute(\"INSERT OR IGNORE INTO Orders VALUES (1, 1, '2024-01-15', 1199.98);\")\n",
    "cursor.execute(\"INSERT OR IGNORE INTO Orders VALUES (2, 2, '2024-02-03', 699.99);\")\n",
    "cursor.execute(\"INSERT OR IGNORE INTO Orders VALUES (3, 3, '2024-03-20', 399.98);\")\n",
    "cursor.execute(\"INSERT OR IGNORE INTO Orders VALUES (4, 1, '2024-04-05', 49.99);\")\n",
    "\n",
    "# Order_Details\n",
    "cursor.execute(\"INSERT OR IGNORE INTO Order_Details VALUES (1, 1, 1, 1);\")  # Alice bought 1 Laptop\n",
    "cursor.execute(\"INSERT OR IGNORE INTO Order_Details VALUES (2, 1, 3, 1);\")  # Alice bought 1 Headphones\n",
    "cursor.execute(\"INSERT OR IGNORE INTO Order_Details VALUES (3, 2, 2, 1);\")  # Bob bought 1 Smartphone\n",
    "cursor.execute(\"INSERT OR IGNORE INTO Order_Details VALUES (4, 3, 3, 2);\")  # Charlie bought 2 Headphones\n",
    "cursor.execute(\"INSERT OR IGNORE INTO Order_Details VALUES (5, 4, 4, 1);\")  # Alice bought 1 Coffee Maker\n",
    "\n",
    "# Commit the changes\n",
    "connection.commit()\n"
   ]
  },
  {
   "cell_type": "code",
   "execution_count": 5,
   "id": "39d0ab27-5c71-4349-a9b4-4d4370ee5ada",
   "metadata": {},
   "outputs": [
    {
     "data": {
      "text/html": [
       "<div>\n",
       "<style scoped>\n",
       "    .dataframe tbody tr th:only-of-type {\n",
       "        vertical-align: middle;\n",
       "    }\n",
       "\n",
       "    .dataframe tbody tr th {\n",
       "        vertical-align: top;\n",
       "    }\n",
       "\n",
       "    .dataframe thead th {\n",
       "        text-align: right;\n",
       "    }\n",
       "</style>\n",
       "<table border=\"1\" class=\"dataframe\">\n",
       "  <thead>\n",
       "    <tr style=\"text-align: right;\">\n",
       "      <th></th>\n",
       "      <th>name</th>\n",
       "      <th>lifetime_value</th>\n",
       "    </tr>\n",
       "  </thead>\n",
       "  <tbody>\n",
       "    <tr>\n",
       "      <th>0</th>\n",
       "      <td>Alice Smith</td>\n",
       "      <td>1249.97</td>\n",
       "    </tr>\n",
       "    <tr>\n",
       "      <th>1</th>\n",
       "      <td>Bob Johnson</td>\n",
       "      <td>699.99</td>\n",
       "    </tr>\n",
       "    <tr>\n",
       "      <th>2</th>\n",
       "      <td>Charlie Davis</td>\n",
       "      <td>399.98</td>\n",
       "    </tr>\n",
       "  </tbody>\n",
       "</table>\n",
       "</div>"
      ],
      "text/plain": [
       "            name  lifetime_value\n",
       "0    Alice Smith         1249.97\n",
       "1    Bob Johnson          699.99\n",
       "2  Charlie Davis          399.98"
      ]
     },
     "execution_count": 5,
     "metadata": {},
     "output_type": "execute_result"
    }
   ],
   "source": [
    "query = '''\n",
    "SELECT Customers.name, SUM(Orders.order_value) AS lifetime_value\n",
    "FROM Customers\n",
    "JOIN Orders ON Customers.customer_id = Orders.customer_id\n",
    "GROUP BY Customers.name\n",
    "ORDER BY lifetime_value DESC;\n",
    "'''\n",
    "\n",
    "result = pd.read_sql_query(query, connection)\n",
    "result\n"
   ]
  },
  {
   "cell_type": "code",
   "execution_count": 6,
   "id": "c7371975-a13a-4de4-92a5-d2c329b61d26",
   "metadata": {},
   "outputs": [
    {
     "data": {
      "text/html": [
       "<div>\n",
       "<style scoped>\n",
       "    .dataframe tbody tr th:only-of-type {\n",
       "        vertical-align: middle;\n",
       "    }\n",
       "\n",
       "    .dataframe tbody tr th {\n",
       "        vertical-align: top;\n",
       "    }\n",
       "\n",
       "    .dataframe thead th {\n",
       "        text-align: right;\n",
       "    }\n",
       "</style>\n",
       "<table border=\"1\" class=\"dataframe\">\n",
       "  <thead>\n",
       "    <tr style=\"text-align: right;\">\n",
       "      <th></th>\n",
       "      <th>segment</th>\n",
       "      <th>average_order_value</th>\n",
       "    </tr>\n",
       "  </thead>\n",
       "  <tbody>\n",
       "    <tr>\n",
       "      <th>0</th>\n",
       "      <td>Premium</td>\n",
       "      <td>549.983333</td>\n",
       "    </tr>\n",
       "    <tr>\n",
       "      <th>1</th>\n",
       "      <td>Regular</td>\n",
       "      <td>699.990000</td>\n",
       "    </tr>\n",
       "  </tbody>\n",
       "</table>\n",
       "</div>"
      ],
      "text/plain": [
       "   segment  average_order_value\n",
       "0  Premium           549.983333\n",
       "1  Regular           699.990000"
      ]
     },
     "execution_count": 6,
     "metadata": {},
     "output_type": "execute_result"
    }
   ],
   "source": [
    "query = '''\n",
    "SELECT Customers.segment, AVG(Orders.order_value) AS average_order_value\n",
    "FROM Customers\n",
    "JOIN Orders ON Customers.customer_id = Orders.customer_id\n",
    "GROUP BY Customers.segment;\n",
    "'''\n",
    "\n",
    "result = pd.read_sql_query(query, connection)\n",
    "result\n"
   ]
  },
  {
   "cell_type": "code",
   "execution_count": 7,
   "id": "f863a576-0352-4750-ba24-db91832260ed",
   "metadata": {},
   "outputs": [
    {
     "data": {
      "text/html": [
       "<div>\n",
       "<style scoped>\n",
       "    .dataframe tbody tr th:only-of-type {\n",
       "        vertical-align: middle;\n",
       "    }\n",
       "\n",
       "    .dataframe tbody tr th {\n",
       "        vertical-align: top;\n",
       "    }\n",
       "\n",
       "    .dataframe thead th {\n",
       "        text-align: right;\n",
       "    }\n",
       "</style>\n",
       "<table border=\"1\" class=\"dataframe\">\n",
       "  <thead>\n",
       "    <tr style=\"text-align: right;\">\n",
       "      <th></th>\n",
       "      <th>product_name</th>\n",
       "      <th>total_quantity</th>\n",
       "    </tr>\n",
       "  </thead>\n",
       "  <tbody>\n",
       "    <tr>\n",
       "      <th>0</th>\n",
       "      <td>Headphones</td>\n",
       "      <td>3</td>\n",
       "    </tr>\n",
       "  </tbody>\n",
       "</table>\n",
       "</div>"
      ],
      "text/plain": [
       "  product_name  total_quantity\n",
       "0   Headphones               3"
      ]
     },
     "execution_count": 7,
     "metadata": {},
     "output_type": "execute_result"
    }
   ],
   "source": [
    "query = '''\n",
    "SELECT Products.product_name, SUM(Order_Details.quantity) AS total_quantity\n",
    "FROM Products\n",
    "JOIN Order_Details ON Products.product_id = Order_Details.product_id\n",
    "GROUP BY Products.product_name\n",
    "ORDER BY total_quantity DESC\n",
    "LIMIT 1;\n",
    "'''\n",
    "\n",
    "result = pd.read_sql_query(query, connection)\n",
    "result\n"
   ]
  },
  {
   "cell_type": "code",
   "execution_count": 8,
   "id": "d64d6f43-983b-4c2c-9d85-89a7dd849332",
   "metadata": {},
   "outputs": [
    {
     "data": {
      "text/html": [
       "<div>\n",
       "<style scoped>\n",
       "    .dataframe tbody tr th:only-of-type {\n",
       "        vertical-align: middle;\n",
       "    }\n",
       "\n",
       "    .dataframe tbody tr th {\n",
       "        vertical-align: top;\n",
       "    }\n",
       "\n",
       "    .dataframe thead th {\n",
       "        text-align: right;\n",
       "    }\n",
       "</style>\n",
       "<table border=\"1\" class=\"dataframe\">\n",
       "  <thead>\n",
       "    <tr style=\"text-align: right;\">\n",
       "      <th></th>\n",
       "      <th>month</th>\n",
       "      <th>total_sales</th>\n",
       "    </tr>\n",
       "  </thead>\n",
       "  <tbody>\n",
       "    <tr>\n",
       "      <th>0</th>\n",
       "      <td>2024-01</td>\n",
       "      <td>1199.98</td>\n",
       "    </tr>\n",
       "    <tr>\n",
       "      <th>1</th>\n",
       "      <td>2024-02</td>\n",
       "      <td>699.99</td>\n",
       "    </tr>\n",
       "    <tr>\n",
       "      <th>2</th>\n",
       "      <td>2024-03</td>\n",
       "      <td>399.98</td>\n",
       "    </tr>\n",
       "    <tr>\n",
       "      <th>3</th>\n",
       "      <td>2024-04</td>\n",
       "      <td>49.99</td>\n",
       "    </tr>\n",
       "  </tbody>\n",
       "</table>\n",
       "</div>"
      ],
      "text/plain": [
       "     month  total_sales\n",
       "0  2024-01      1199.98\n",
       "1  2024-02       699.99\n",
       "2  2024-03       399.98\n",
       "3  2024-04        49.99"
      ]
     },
     "execution_count": 8,
     "metadata": {},
     "output_type": "execute_result"
    }
   ],
   "source": [
    "query = '''\n",
    "SELECT strftime('%Y-%m', Orders.order_date) AS month, SUM(Orders.order_value) AS total_sales\n",
    "FROM Orders\n",
    "GROUP BY month\n",
    "ORDER BY month;\n",
    "'''\n",
    "\n",
    "result = pd.read_sql_query(query, connection)\n",
    "result\n"
   ]
  },
  {
   "cell_type": "code",
   "execution_count": 9,
   "id": "0c70d126-4be2-4070-a83f-edf657f36dc4",
   "metadata": {},
   "outputs": [
    {
     "data": {
      "text/html": [
       "<div>\n",
       "<style scoped>\n",
       "    .dataframe tbody tr th:only-of-type {\n",
       "        vertical-align: middle;\n",
       "    }\n",
       "\n",
       "    .dataframe tbody tr th {\n",
       "        vertical-align: top;\n",
       "    }\n",
       "\n",
       "    .dataframe thead th {\n",
       "        text-align: right;\n",
       "    }\n",
       "</style>\n",
       "<table border=\"1\" class=\"dataframe\">\n",
       "  <thead>\n",
       "    <tr style=\"text-align: right;\">\n",
       "      <th></th>\n",
       "      <th>name</th>\n",
       "      <th>total_orders</th>\n",
       "    </tr>\n",
       "  </thead>\n",
       "  <tbody>\n",
       "    <tr>\n",
       "      <th>0</th>\n",
       "      <td>Alice Smith</td>\n",
       "      <td>2</td>\n",
       "    </tr>\n",
       "  </tbody>\n",
       "</table>\n",
       "</div>"
      ],
      "text/plain": [
       "          name  total_orders\n",
       "0  Alice Smith             2"
      ]
     },
     "execution_count": 9,
     "metadata": {},
     "output_type": "execute_result"
    }
   ],
   "source": [
    "query = '''\n",
    "SELECT Customers.name, COUNT(Orders.order_id) AS total_orders\n",
    "FROM Customers\n",
    "JOIN Orders ON Customers.customer_id = Orders.customer_id\n",
    "GROUP BY Customers.name\n",
    "HAVING total_orders > 1\n",
    "ORDER BY total_orders DESC;\n",
    "'''\n",
    "\n",
    "result = pd.read_sql_query(query, connection)\n",
    "result\n"
   ]
  },
  {
   "cell_type": "code",
   "execution_count": 10,
   "id": "3ccc9608-a9f8-40b9-b6ed-e8c378087edc",
   "metadata": {},
   "outputs": [],
   "source": [
    "connection.close()\n"
   ]
  },
  {
   "cell_type": "markdown",
   "id": "57f33153-f491-453d-89a4-33d4cb7e67e9",
   "metadata": {},
   "source": [
    "Customer Insights: You can understand customer behavior by analyzing metrics like Customer Lifetime Value (LTV), Average Order Value (AOV), and retention rates.\n",
    "\n",
    "Product Performance: Identify which products are performing well and which might need better marketing or discounts.\n",
    "\n",
    "Segmentation Analysis: Analyze differences in behavior between different customer segments (e.g., Premium vs. Regular).\n",
    "\n",
    "Trends Analysis: Gain insights into monthly sales trends to understand seasonal effects and growth patterns.\n",
    "\n",
    "Real-World Application: This project is relevant for any e-commerce business looking to optimize its customer acquisition, retention, and product strategy."
   ]
  }
 ],
 "metadata": {
  "kernelspec": {
   "display_name": "Python 3 (ipykernel)",
   "language": "python",
   "name": "python3"
  },
  "language_info": {
   "codemirror_mode": {
    "name": "ipython",
    "version": 3
   },
   "file_extension": ".py",
   "mimetype": "text/x-python",
   "name": "python",
   "nbconvert_exporter": "python",
   "pygments_lexer": "ipython3",
   "version": "3.12.2"
  }
 },
 "nbformat": 4,
 "nbformat_minor": 5
}
